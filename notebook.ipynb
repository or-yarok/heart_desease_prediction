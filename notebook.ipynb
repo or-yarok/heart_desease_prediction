{
 "cells": [
  {
   "cell_type": "markdown",
   "metadata": {
    "dc": {
     "key": "3"
    },
    "deletable": false,
    "editable": false,
    "run_control": {
     "frozen": true
    },
    "tags": [
     "context"
    ]
   },
   "source": [
    "## 1. Heart disease and potential risk factors\n",
    "<p>Millions of people develop some sort of heart disease every year and heart disease is the biggest killer of both men and women in the United States and around the world. Statistical analysis has identified many risk factors associated with heart disease such as age, blood pressure, total cholesterol, diabetes, hypertension, family history of heart disease, obesity, lack of physical exercise, etc. In this notebook, we're going to run statistical tests and regression models using the Cleveland heart disease dataset to assess one particular factor -- maximum heart rate one can achieve during exercise and how it is associated with a higher likelihood of getting heart disease.</p>\n",
    "<p><img src=\"https://assets.datacamp.com/production/project_445/img/run31.png\" height=\"300\" width=\"300\"></p>"
   ]
  },
  {
   "cell_type": "code",
   "execution_count": 1,
   "metadata": {
    "dc": {
     "key": "3"
    },
    "tags": [
     "sample_code"
    ]
   },
   "outputs": [
    {
     "data": {
      "text/html": [
       "<table>\n",
       "<thead><tr><th scope=col>age</th><th scope=col>sex</th><th scope=col>cp</th><th scope=col>trestbps</th><th scope=col>chol</th><th scope=col>fbs</th><th scope=col>restecg</th><th scope=col>thalach</th><th scope=col>exang</th><th scope=col>oldpeak</th><th scope=col>slope</th><th scope=col>ca</th><th scope=col>thal</th><th scope=col>class</th></tr></thead>\n",
       "<tbody>\n",
       "\t<tr><td>63 </td><td>1  </td><td>1  </td><td>145</td><td>233</td><td>1  </td><td>2  </td><td>150</td><td>0  </td><td>2.3</td><td>3  </td><td>0  </td><td>6  </td><td>0  </td></tr>\n",
       "\t<tr><td>67 </td><td>1  </td><td>4  </td><td>160</td><td>286</td><td>0  </td><td>2  </td><td>108</td><td>1  </td><td>1.5</td><td>2  </td><td>3  </td><td>3  </td><td>2  </td></tr>\n",
       "\t<tr><td>67 </td><td>1  </td><td>4  </td><td>120</td><td>229</td><td>0  </td><td>2  </td><td>129</td><td>1  </td><td>2.6</td><td>2  </td><td>2  </td><td>7  </td><td>1  </td></tr>\n",
       "\t<tr><td>37 </td><td>1  </td><td>3  </td><td>130</td><td>250</td><td>0  </td><td>0  </td><td>187</td><td>0  </td><td>3.5</td><td>3  </td><td>0  </td><td>3  </td><td>0  </td></tr>\n",
       "\t<tr><td>41 </td><td>0  </td><td>2  </td><td>130</td><td>204</td><td>0  </td><td>2  </td><td>172</td><td>0  </td><td>1.4</td><td>1  </td><td>0  </td><td>3  </td><td>0  </td></tr>\n",
       "</tbody>\n",
       "</table>\n"
      ],
      "text/latex": [
       "\\begin{tabular}{r|llllllllllllll}\n",
       " age & sex & cp & trestbps & chol & fbs & restecg & thalach & exang & oldpeak & slope & ca & thal & class\\\\\n",
       "\\hline\n",
       "\t 63  & 1   & 1   & 145 & 233 & 1   & 2   & 150 & 0   & 2.3 & 3   & 0   & 6   & 0  \\\\\n",
       "\t 67  & 1   & 4   & 160 & 286 & 0   & 2   & 108 & 1   & 1.5 & 2   & 3   & 3   & 2  \\\\\n",
       "\t 67  & 1   & 4   & 120 & 229 & 0   & 2   & 129 & 1   & 2.6 & 2   & 2   & 7   & 1  \\\\\n",
       "\t 37  & 1   & 3   & 130 & 250 & 0   & 0   & 187 & 0   & 3.5 & 3   & 0   & 3   & 0  \\\\\n",
       "\t 41  & 0   & 2   & 130 & 204 & 0   & 2   & 172 & 0   & 1.4 & 1   & 0   & 3   & 0  \\\\\n",
       "\\end{tabular}\n"
      ],
      "text/markdown": [
       "\n",
       "| age | sex | cp | trestbps | chol | fbs | restecg | thalach | exang | oldpeak | slope | ca | thal | class |\n",
       "|---|---|---|---|---|---|---|---|---|---|---|---|---|---|\n",
       "| 63  | 1   | 1   | 145 | 233 | 1   | 2   | 150 | 0   | 2.3 | 3   | 0   | 6   | 0   |\n",
       "| 67  | 1   | 4   | 160 | 286 | 0   | 2   | 108 | 1   | 1.5 | 2   | 3   | 3   | 2   |\n",
       "| 67  | 1   | 4   | 120 | 229 | 0   | 2   | 129 | 1   | 2.6 | 2   | 2   | 7   | 1   |\n",
       "| 37  | 1   | 3   | 130 | 250 | 0   | 0   | 187 | 0   | 3.5 | 3   | 0   | 3   | 0   |\n",
       "| 41  | 0   | 2   | 130 | 204 | 0   | 2   | 172 | 0   | 1.4 | 1   | 0   | 3   | 0   |\n",
       "\n"
      ],
      "text/plain": [
       "  age sex cp trestbps chol fbs restecg thalach exang oldpeak slope ca thal\n",
       "1 63  1   1  145      233  1   2       150     0     2.3     3     0  6   \n",
       "2 67  1   4  160      286  0   2       108     1     1.5     2     3  3   \n",
       "3 67  1   4  120      229  0   2       129     1     2.6     2     2  7   \n",
       "4 37  1   3  130      250  0   0       187     0     3.5     3     0  3   \n",
       "5 41  0   2  130      204  0   2       172     0     1.4     1     0  3   \n",
       "  class\n",
       "1 0    \n",
       "2 2    \n",
       "3 1    \n",
       "4 0    \n",
       "5 0    "
      ]
     },
     "metadata": {},
     "output_type": "display_data"
    }
   ],
   "source": [
    "# Read datasets Cleveland_hd.csv into hd_data\n",
    "hd_data <- read.csv('datasets/Cleveland_hd.csv')\n",
    "\n",
    "# take a look at the first 5 rows of hd_data\n",
    "head(hd_data, 5)"
   ]
  },
  {
   "cell_type": "markdown",
   "metadata": {
    "dc": {
     "key": "10"
    },
    "deletable": false,
    "editable": false,
    "run_control": {
     "frozen": true
    },
    "tags": [
     "context"
    ]
   },
   "source": [
    "## 2. Converting diagnosis class into outcome variable\n",
    "<p>We noticed that the outcome variable <code>class</code> has more than two levels. According to the codebook, any non-zero values can be coded as an \"event.\" Let's create a new variable called <code>hd</code> to represent a binary 1/0 outcome.</p>\n",
    "<p>There are a few other categorical/discrete variables in the dataset. Let's also convert sex into a 'factor' for next step analysis. Otherwise, R will treat this as continuous by default.</p>\n",
    "<p>The full data dictionary is also displayed here.</p>\n",
    "<p><img src=\"https://assets.datacamp.com/production/project_445/img/datadict.png\" height=\"500\" width=\"500\"></p>"
   ]
  },
  {
   "cell_type": "code",
   "execution_count": 2,
   "metadata": {
    "dc": {
     "key": "10"
    },
    "tags": [
     "sample_code"
    ]
   },
   "outputs": [
    {
     "name": "stderr",
     "output_type": "stream",
     "text": [
      "Registered S3 methods overwritten by 'ggplot2':\n",
      "  method         from \n",
      "  [.quosures     rlang\n",
      "  c.quosures     rlang\n",
      "  print.quosures rlang\n",
      "Registered S3 method overwritten by 'rvest':\n",
      "  method            from\n",
      "  read_xml.response xml2\n",
      "-- Attaching packages --------------------------------------- tidyverse 1.2.1 --\n",
      "v ggplot2 3.1.1       v purrr   0.3.4  \n",
      "v tibble  2.1.1       v dplyr   0.8.0.1\n",
      "v tidyr   0.8.3       v stringr 1.4.0  \n",
      "v readr   1.3.1       v forcats 0.5.1  \n",
      "-- Conflicts ------------------------------------------ tidyverse_conflicts() --\n",
      "x dplyr::filter() masks stats::filter()\n",
      "x dplyr::lag()    masks stats::lag()\n"
     ]
    },
    {
     "data": {
      "text/html": [
       "<table>\n",
       "<thead><tr><th scope=col>age</th><th scope=col>sex</th><th scope=col>cp</th><th scope=col>trestbps</th><th scope=col>chol</th><th scope=col>fbs</th><th scope=col>restecg</th><th scope=col>thalach</th><th scope=col>exang</th><th scope=col>oldpeak</th><th scope=col>slope</th><th scope=col>ca</th><th scope=col>thal</th><th scope=col>class</th><th scope=col>hd</th></tr></thead>\n",
       "<tbody>\n",
       "\t<tr><td>63    </td><td>Male  </td><td>1     </td><td>145   </td><td>233   </td><td>1     </td><td>2     </td><td>150   </td><td>0     </td><td>2.3   </td><td>3     </td><td>0     </td><td>6     </td><td>0     </td><td>0     </td></tr>\n",
       "\t<tr><td>67    </td><td>Male  </td><td>4     </td><td>160   </td><td>286   </td><td>0     </td><td>2     </td><td>108   </td><td>1     </td><td>1.5   </td><td>2     </td><td>3     </td><td>3     </td><td>2     </td><td>1     </td></tr>\n",
       "\t<tr><td>67    </td><td>Male  </td><td>4     </td><td>120   </td><td>229   </td><td>0     </td><td>2     </td><td>129   </td><td>1     </td><td>2.6   </td><td>2     </td><td>2     </td><td>7     </td><td>1     </td><td>1     </td></tr>\n",
       "\t<tr><td>37    </td><td>Male  </td><td>3     </td><td>130   </td><td>250   </td><td>0     </td><td>0     </td><td>187   </td><td>0     </td><td>3.5   </td><td>3     </td><td>0     </td><td>3     </td><td>0     </td><td>0     </td></tr>\n",
       "\t<tr><td>41    </td><td>Female</td><td>2     </td><td>130   </td><td>204   </td><td>0     </td><td>2     </td><td>172   </td><td>0     </td><td>1.4   </td><td>1     </td><td>0     </td><td>3     </td><td>0     </td><td>0     </td></tr>\n",
       "\t<tr><td>56    </td><td>Male  </td><td>2     </td><td>120   </td><td>236   </td><td>0     </td><td>0     </td><td>178   </td><td>0     </td><td>0.8   </td><td>1     </td><td>0     </td><td>3     </td><td>0     </td><td>0     </td></tr>\n",
       "\t<tr><td>62    </td><td>Female</td><td>4     </td><td>140   </td><td>268   </td><td>0     </td><td>2     </td><td>160   </td><td>0     </td><td>3.6   </td><td>3     </td><td>2     </td><td>3     </td><td>3     </td><td>1     </td></tr>\n",
       "\t<tr><td>57    </td><td>Female</td><td>4     </td><td>120   </td><td>354   </td><td>0     </td><td>0     </td><td>163   </td><td>1     </td><td>0.6   </td><td>1     </td><td>0     </td><td>3     </td><td>0     </td><td>0     </td></tr>\n",
       "\t<tr><td>63    </td><td>Male  </td><td>4     </td><td>130   </td><td>254   </td><td>0     </td><td>2     </td><td>147   </td><td>0     </td><td>1.4   </td><td>2     </td><td>1     </td><td>7     </td><td>2     </td><td>1     </td></tr>\n",
       "\t<tr><td>53    </td><td>Male  </td><td>4     </td><td>140   </td><td>203   </td><td>1     </td><td>2     </td><td>155   </td><td>1     </td><td>3.1   </td><td>3     </td><td>0     </td><td>7     </td><td>1     </td><td>1     </td></tr>\n",
       "\t<tr><td>57    </td><td>Male  </td><td>4     </td><td>140   </td><td>192   </td><td>0     </td><td>0     </td><td>148   </td><td>0     </td><td>0.4   </td><td>2     </td><td>0     </td><td>6     </td><td>0     </td><td>0     </td></tr>\n",
       "\t<tr><td>56    </td><td>Female</td><td>2     </td><td>140   </td><td>294   </td><td>0     </td><td>2     </td><td>153   </td><td>0     </td><td>1.3   </td><td>2     </td><td>0     </td><td>3     </td><td>0     </td><td>0     </td></tr>\n",
       "\t<tr><td>56    </td><td>Male  </td><td>3     </td><td>130   </td><td>256   </td><td>1     </td><td>2     </td><td>142   </td><td>1     </td><td>0.6   </td><td>2     </td><td>1     </td><td>6     </td><td>2     </td><td>1     </td></tr>\n",
       "\t<tr><td>44    </td><td>Male  </td><td>2     </td><td>120   </td><td>263   </td><td>0     </td><td>0     </td><td>173   </td><td>0     </td><td>0.0   </td><td>1     </td><td>0     </td><td>7     </td><td>0     </td><td>0     </td></tr>\n",
       "\t<tr><td>52    </td><td>Male  </td><td>3     </td><td>172   </td><td>199   </td><td>1     </td><td>0     </td><td>162   </td><td>0     </td><td>0.5   </td><td>1     </td><td>0     </td><td>7     </td><td>0     </td><td>0     </td></tr>\n",
       "\t<tr><td>57    </td><td>Male  </td><td>3     </td><td>150   </td><td>168   </td><td>0     </td><td>0     </td><td>174   </td><td>0     </td><td>1.6   </td><td>1     </td><td>0     </td><td>3     </td><td>0     </td><td>0     </td></tr>\n",
       "\t<tr><td>48    </td><td>Male  </td><td>2     </td><td>110   </td><td>229   </td><td>0     </td><td>0     </td><td>168   </td><td>0     </td><td>1.0   </td><td>3     </td><td>0     </td><td>7     </td><td>1     </td><td>1     </td></tr>\n",
       "\t<tr><td>54    </td><td>Male  </td><td>4     </td><td>140   </td><td>239   </td><td>0     </td><td>0     </td><td>160   </td><td>0     </td><td>1.2   </td><td>1     </td><td>0     </td><td>3     </td><td>0     </td><td>0     </td></tr>\n",
       "\t<tr><td>48    </td><td>Female</td><td>3     </td><td>130   </td><td>275   </td><td>0     </td><td>0     </td><td>139   </td><td>0     </td><td>0.2   </td><td>1     </td><td>0     </td><td>3     </td><td>0     </td><td>0     </td></tr>\n",
       "\t<tr><td>49    </td><td>Male  </td><td>2     </td><td>130   </td><td>266   </td><td>0     </td><td>0     </td><td>171   </td><td>0     </td><td>0.6   </td><td>1     </td><td>0     </td><td>3     </td><td>0     </td><td>0     </td></tr>\n",
       "\t<tr><td>64    </td><td>Male  </td><td>1     </td><td>110   </td><td>211   </td><td>0     </td><td>2     </td><td>144   </td><td>1     </td><td>1.8   </td><td>2     </td><td>0     </td><td>3     </td><td>0     </td><td>0     </td></tr>\n",
       "\t<tr><td>58    </td><td>Female</td><td>1     </td><td>150   </td><td>283   </td><td>1     </td><td>2     </td><td>162   </td><td>0     </td><td>1.0   </td><td>1     </td><td>0     </td><td>3     </td><td>0     </td><td>0     </td></tr>\n",
       "\t<tr><td>58    </td><td>Male  </td><td>2     </td><td>120   </td><td>284   </td><td>0     </td><td>2     </td><td>160   </td><td>0     </td><td>1.8   </td><td>2     </td><td>0     </td><td>3     </td><td>1     </td><td>1     </td></tr>\n",
       "\t<tr><td>58    </td><td>Male  </td><td>3     </td><td>132   </td><td>224   </td><td>0     </td><td>2     </td><td>173   </td><td>0     </td><td>3.2   </td><td>1     </td><td>2     </td><td>7     </td><td>3     </td><td>1     </td></tr>\n",
       "\t<tr><td>60    </td><td>Male  </td><td>4     </td><td>130   </td><td>206   </td><td>0     </td><td>2     </td><td>132   </td><td>1     </td><td>2.4   </td><td>2     </td><td>2     </td><td>7     </td><td>4     </td><td>1     </td></tr>\n",
       "\t<tr><td>50    </td><td>Female</td><td>3     </td><td>120   </td><td>219   </td><td>0     </td><td>0     </td><td>158   </td><td>0     </td><td>1.6   </td><td>2     </td><td>0     </td><td>3     </td><td>0     </td><td>0     </td></tr>\n",
       "\t<tr><td>58    </td><td>Female</td><td>3     </td><td>120   </td><td>340   </td><td>0     </td><td>0     </td><td>172   </td><td>0     </td><td>0.0   </td><td>1     </td><td>0     </td><td>3     </td><td>0     </td><td>0     </td></tr>\n",
       "\t<tr><td>66    </td><td>Female</td><td>1     </td><td>150   </td><td>226   </td><td>0     </td><td>0     </td><td>114   </td><td>0     </td><td>2.6   </td><td>3     </td><td>0     </td><td>3     </td><td>0     </td><td>0     </td></tr>\n",
       "\t<tr><td>43    </td><td>Male  </td><td>4     </td><td>150   </td><td>247   </td><td>0     </td><td>0     </td><td>171   </td><td>0     </td><td>1.5   </td><td>1     </td><td>0     </td><td>3     </td><td>0     </td><td>0     </td></tr>\n",
       "\t<tr><td>40    </td><td>Male  </td><td>4     </td><td>110   </td><td>167   </td><td>0     </td><td>2     </td><td>114   </td><td>1     </td><td>2.0   </td><td>2     </td><td>0     </td><td>7     </td><td>3     </td><td>1     </td></tr>\n",
       "\t<tr><td>...</td><td>...</td><td>...</td><td>...</td><td>...</td><td>...</td><td>...</td><td>...</td><td>...</td><td>...</td><td>...</td><td>...</td><td>...</td><td>...</td><td>...</td></tr>\n",
       "\t<tr><td>71    </td><td>Female</td><td>4     </td><td>112   </td><td>149   </td><td>0     </td><td>0     </td><td>125   </td><td>0     </td><td>1.6   </td><td>2     </td><td> 0    </td><td>3     </td><td>0     </td><td>0     </td></tr>\n",
       "\t<tr><td>59    </td><td>Male  </td><td>1     </td><td>134   </td><td>204   </td><td>0     </td><td>0     </td><td>162   </td><td>0     </td><td>0.8   </td><td>1     </td><td> 2    </td><td>3     </td><td>1     </td><td>1     </td></tr>\n",
       "\t<tr><td>64    </td><td>Male  </td><td>1     </td><td>170   </td><td>227   </td><td>0     </td><td>2     </td><td>155   </td><td>0     </td><td>0.6   </td><td>2     </td><td> 0    </td><td>7     </td><td>0     </td><td>0     </td></tr>\n",
       "\t<tr><td>66    </td><td>Female</td><td>3     </td><td>146   </td><td>278   </td><td>0     </td><td>2     </td><td>152   </td><td>0     </td><td>0.0   </td><td>2     </td><td> 1    </td><td>3     </td><td>0     </td><td>0     </td></tr>\n",
       "\t<tr><td>39    </td><td>Female</td><td>3     </td><td>138   </td><td>220   </td><td>0     </td><td>0     </td><td>152   </td><td>0     </td><td>0.0   </td><td>2     </td><td> 0    </td><td>3     </td><td>0     </td><td>0     </td></tr>\n",
       "\t<tr><td>57    </td><td>Male  </td><td>2     </td><td>154   </td><td>232   </td><td>0     </td><td>2     </td><td>164   </td><td>0     </td><td>0.0   </td><td>1     </td><td> 1    </td><td>3     </td><td>1     </td><td>1     </td></tr>\n",
       "\t<tr><td>58    </td><td>Female</td><td>4     </td><td>130   </td><td>197   </td><td>0     </td><td>0     </td><td>131   </td><td>0     </td><td>0.6   </td><td>2     </td><td> 0    </td><td>3     </td><td>0     </td><td>0     </td></tr>\n",
       "\t<tr><td>57    </td><td>Male  </td><td>4     </td><td>110   </td><td>335   </td><td>0     </td><td>0     </td><td>143   </td><td>1     </td><td>3.0   </td><td>2     </td><td> 1    </td><td>7     </td><td>2     </td><td>1     </td></tr>\n",
       "\t<tr><td>47    </td><td>Male  </td><td>3     </td><td>130   </td><td>253   </td><td>0     </td><td>0     </td><td>179   </td><td>0     </td><td>0.0   </td><td>1     </td><td> 0    </td><td>3     </td><td>0     </td><td>0     </td></tr>\n",
       "\t<tr><td>55    </td><td>Female</td><td>4     </td><td>128   </td><td>205   </td><td>0     </td><td>1     </td><td>130   </td><td>1     </td><td>2.0   </td><td>2     </td><td> 1    </td><td>7     </td><td>3     </td><td>1     </td></tr>\n",
       "\t<tr><td>35    </td><td>Male  </td><td>2     </td><td>122   </td><td>192   </td><td>0     </td><td>0     </td><td>174   </td><td>0     </td><td>0.0   </td><td>1     </td><td> 0    </td><td>3     </td><td>0     </td><td>0     </td></tr>\n",
       "\t<tr><td>61    </td><td>Male  </td><td>4     </td><td>148   </td><td>203   </td><td>0     </td><td>0     </td><td>161   </td><td>0     </td><td>0.0   </td><td>1     </td><td> 1    </td><td>7     </td><td>2     </td><td>1     </td></tr>\n",
       "\t<tr><td>58    </td><td>Male  </td><td>4     </td><td>114   </td><td>318   </td><td>0     </td><td>1     </td><td>140   </td><td>0     </td><td>4.4   </td><td>3     </td><td> 3    </td><td>6     </td><td>4     </td><td>1     </td></tr>\n",
       "\t<tr><td>58    </td><td>Female</td><td>4     </td><td>170   </td><td>225   </td><td>1     </td><td>2     </td><td>146   </td><td>1     </td><td>2.8   </td><td>2     </td><td> 2    </td><td>6     </td><td>2     </td><td>1     </td></tr>\n",
       "\t<tr><td>58    </td><td>Male  </td><td>2     </td><td>125   </td><td>220   </td><td>0     </td><td>0     </td><td>144   </td><td>0     </td><td>0.4   </td><td>2     </td><td>NA    </td><td>7     </td><td>0     </td><td>0     </td></tr>\n",
       "\t<tr><td>56    </td><td>Male  </td><td>2     </td><td>130   </td><td>221   </td><td>0     </td><td>2     </td><td>163   </td><td>0     </td><td>0.0   </td><td>1     </td><td> 0    </td><td>7     </td><td>0     </td><td>0     </td></tr>\n",
       "\t<tr><td>56    </td><td>Male  </td><td>2     </td><td>120   </td><td>240   </td><td>0     </td><td>0     </td><td>169   </td><td>0     </td><td>0.0   </td><td>3     </td><td> 0    </td><td>3     </td><td>0     </td><td>0     </td></tr>\n",
       "\t<tr><td>67    </td><td>Male  </td><td>3     </td><td>152   </td><td>212   </td><td>0     </td><td>2     </td><td>150   </td><td>0     </td><td>0.8   </td><td>2     </td><td> 0    </td><td>7     </td><td>1     </td><td>1     </td></tr>\n",
       "\t<tr><td>55    </td><td>Female</td><td>2     </td><td>132   </td><td>342   </td><td>0     </td><td>0     </td><td>166   </td><td>0     </td><td>1.2   </td><td>1     </td><td> 0    </td><td>3     </td><td>0     </td><td>0     </td></tr>\n",
       "\t<tr><td>44    </td><td>Male  </td><td>4     </td><td>120   </td><td>169   </td><td>0     </td><td>0     </td><td>144   </td><td>1     </td><td>2.8   </td><td>3     </td><td> 0    </td><td>6     </td><td>2     </td><td>1     </td></tr>\n",
       "\t<tr><td>63    </td><td>Male  </td><td>4     </td><td>140   </td><td>187   </td><td>0     </td><td>2     </td><td>144   </td><td>1     </td><td>4.0   </td><td>1     </td><td> 2    </td><td>7     </td><td>2     </td><td>1     </td></tr>\n",
       "\t<tr><td>63    </td><td>Female</td><td>4     </td><td>124   </td><td>197   </td><td>0     </td><td>0     </td><td>136   </td><td>1     </td><td>0.0   </td><td>2     </td><td> 0    </td><td>3     </td><td>1     </td><td>1     </td></tr>\n",
       "\t<tr><td>41    </td><td>Male  </td><td>2     </td><td>120   </td><td>157   </td><td>0     </td><td>0     </td><td>182   </td><td>0     </td><td>0.0   </td><td>1     </td><td> 0    </td><td>3     </td><td>0     </td><td>0     </td></tr>\n",
       "\t<tr><td>59    </td><td>Male  </td><td>4     </td><td>164   </td><td>176   </td><td>1     </td><td>2     </td><td> 90   </td><td>0     </td><td>1.0   </td><td>2     </td><td> 2    </td><td>6     </td><td>3     </td><td>1     </td></tr>\n",
       "\t<tr><td>57    </td><td>Female</td><td>4     </td><td>140   </td><td>241   </td><td>0     </td><td>0     </td><td>123   </td><td>1     </td><td>0.2   </td><td>2     </td><td> 0    </td><td>7     </td><td>1     </td><td>1     </td></tr>\n",
       "\t<tr><td>45    </td><td>Male  </td><td>1     </td><td>110   </td><td>264   </td><td>0     </td><td>0     </td><td>132   </td><td>0     </td><td>1.2   </td><td>2     </td><td> 0    </td><td>7     </td><td>1     </td><td>1     </td></tr>\n",
       "\t<tr><td>68    </td><td>Male  </td><td>4     </td><td>144   </td><td>193   </td><td>1     </td><td>0     </td><td>141   </td><td>0     </td><td>3.4   </td><td>2     </td><td> 2    </td><td>7     </td><td>2     </td><td>1     </td></tr>\n",
       "\t<tr><td>57    </td><td>Male  </td><td>4     </td><td>130   </td><td>131   </td><td>0     </td><td>0     </td><td>115   </td><td>1     </td><td>1.2   </td><td>2     </td><td> 1    </td><td>7     </td><td>3     </td><td>1     </td></tr>\n",
       "\t<tr><td>57    </td><td>Female</td><td>2     </td><td>130   </td><td>236   </td><td>0     </td><td>2     </td><td>174   </td><td>0     </td><td>0.0   </td><td>2     </td><td> 1    </td><td>3     </td><td>1     </td><td>1     </td></tr>\n",
       "\t<tr><td>38    </td><td>Male  </td><td>3     </td><td>138   </td><td>175   </td><td>0     </td><td>0     </td><td>173   </td><td>0     </td><td>0.0   </td><td>1     </td><td>NA    </td><td>3     </td><td>0     </td><td>0     </td></tr>\n",
       "</tbody>\n",
       "</table>\n"
      ],
      "text/latex": [
       "\\begin{tabular}{r|lllllllllllllll}\n",
       " age & sex & cp & trestbps & chol & fbs & restecg & thalach & exang & oldpeak & slope & ca & thal & class & hd\\\\\n",
       "\\hline\n",
       "\t 63     & Male   & 1      & 145    & 233    & 1      & 2      & 150    & 0      & 2.3    & 3      & 0      & 6      & 0      & 0     \\\\\n",
       "\t 67     & Male   & 4      & 160    & 286    & 0      & 2      & 108    & 1      & 1.5    & 2      & 3      & 3      & 2      & 1     \\\\\n",
       "\t 67     & Male   & 4      & 120    & 229    & 0      & 2      & 129    & 1      & 2.6    & 2      & 2      & 7      & 1      & 1     \\\\\n",
       "\t 37     & Male   & 3      & 130    & 250    & 0      & 0      & 187    & 0      & 3.5    & 3      & 0      & 3      & 0      & 0     \\\\\n",
       "\t 41     & Female & 2      & 130    & 204    & 0      & 2      & 172    & 0      & 1.4    & 1      & 0      & 3      & 0      & 0     \\\\\n",
       "\t 56     & Male   & 2      & 120    & 236    & 0      & 0      & 178    & 0      & 0.8    & 1      & 0      & 3      & 0      & 0     \\\\\n",
       "\t 62     & Female & 4      & 140    & 268    & 0      & 2      & 160    & 0      & 3.6    & 3      & 2      & 3      & 3      & 1     \\\\\n",
       "\t 57     & Female & 4      & 120    & 354    & 0      & 0      & 163    & 1      & 0.6    & 1      & 0      & 3      & 0      & 0     \\\\\n",
       "\t 63     & Male   & 4      & 130    & 254    & 0      & 2      & 147    & 0      & 1.4    & 2      & 1      & 7      & 2      & 1     \\\\\n",
       "\t 53     & Male   & 4      & 140    & 203    & 1      & 2      & 155    & 1      & 3.1    & 3      & 0      & 7      & 1      & 1     \\\\\n",
       "\t 57     & Male   & 4      & 140    & 192    & 0      & 0      & 148    & 0      & 0.4    & 2      & 0      & 6      & 0      & 0     \\\\\n",
       "\t 56     & Female & 2      & 140    & 294    & 0      & 2      & 153    & 0      & 1.3    & 2      & 0      & 3      & 0      & 0     \\\\\n",
       "\t 56     & Male   & 3      & 130    & 256    & 1      & 2      & 142    & 1      & 0.6    & 2      & 1      & 6      & 2      & 1     \\\\\n",
       "\t 44     & Male   & 2      & 120    & 263    & 0      & 0      & 173    & 0      & 0.0    & 1      & 0      & 7      & 0      & 0     \\\\\n",
       "\t 52     & Male   & 3      & 172    & 199    & 1      & 0      & 162    & 0      & 0.5    & 1      & 0      & 7      & 0      & 0     \\\\\n",
       "\t 57     & Male   & 3      & 150    & 168    & 0      & 0      & 174    & 0      & 1.6    & 1      & 0      & 3      & 0      & 0     \\\\\n",
       "\t 48     & Male   & 2      & 110    & 229    & 0      & 0      & 168    & 0      & 1.0    & 3      & 0      & 7      & 1      & 1     \\\\\n",
       "\t 54     & Male   & 4      & 140    & 239    & 0      & 0      & 160    & 0      & 1.2    & 1      & 0      & 3      & 0      & 0     \\\\\n",
       "\t 48     & Female & 3      & 130    & 275    & 0      & 0      & 139    & 0      & 0.2    & 1      & 0      & 3      & 0      & 0     \\\\\n",
       "\t 49     & Male   & 2      & 130    & 266    & 0      & 0      & 171    & 0      & 0.6    & 1      & 0      & 3      & 0      & 0     \\\\\n",
       "\t 64     & Male   & 1      & 110    & 211    & 0      & 2      & 144    & 1      & 1.8    & 2      & 0      & 3      & 0      & 0     \\\\\n",
       "\t 58     & Female & 1      & 150    & 283    & 1      & 2      & 162    & 0      & 1.0    & 1      & 0      & 3      & 0      & 0     \\\\\n",
       "\t 58     & Male   & 2      & 120    & 284    & 0      & 2      & 160    & 0      & 1.8    & 2      & 0      & 3      & 1      & 1     \\\\\n",
       "\t 58     & Male   & 3      & 132    & 224    & 0      & 2      & 173    & 0      & 3.2    & 1      & 2      & 7      & 3      & 1     \\\\\n",
       "\t 60     & Male   & 4      & 130    & 206    & 0      & 2      & 132    & 1      & 2.4    & 2      & 2      & 7      & 4      & 1     \\\\\n",
       "\t 50     & Female & 3      & 120    & 219    & 0      & 0      & 158    & 0      & 1.6    & 2      & 0      & 3      & 0      & 0     \\\\\n",
       "\t 58     & Female & 3      & 120    & 340    & 0      & 0      & 172    & 0      & 0.0    & 1      & 0      & 3      & 0      & 0     \\\\\n",
       "\t 66     & Female & 1      & 150    & 226    & 0      & 0      & 114    & 0      & 2.6    & 3      & 0      & 3      & 0      & 0     \\\\\n",
       "\t 43     & Male   & 4      & 150    & 247    & 0      & 0      & 171    & 0      & 1.5    & 1      & 0      & 3      & 0      & 0     \\\\\n",
       "\t 40     & Male   & 4      & 110    & 167    & 0      & 2      & 114    & 1      & 2.0    & 2      & 0      & 7      & 3      & 1     \\\\\n",
       "\t ... & ... & ... & ... & ... & ... & ... & ... & ... & ... & ... & ... & ... & ... & ...\\\\\n",
       "\t 71     & Female & 4      & 112    & 149    & 0      & 0      & 125    & 0      & 1.6    & 2      &  0     & 3      & 0      & 0     \\\\\n",
       "\t 59     & Male   & 1      & 134    & 204    & 0      & 0      & 162    & 0      & 0.8    & 1      &  2     & 3      & 1      & 1     \\\\\n",
       "\t 64     & Male   & 1      & 170    & 227    & 0      & 2      & 155    & 0      & 0.6    & 2      &  0     & 7      & 0      & 0     \\\\\n",
       "\t 66     & Female & 3      & 146    & 278    & 0      & 2      & 152    & 0      & 0.0    & 2      &  1     & 3      & 0      & 0     \\\\\n",
       "\t 39     & Female & 3      & 138    & 220    & 0      & 0      & 152    & 0      & 0.0    & 2      &  0     & 3      & 0      & 0     \\\\\n",
       "\t 57     & Male   & 2      & 154    & 232    & 0      & 2      & 164    & 0      & 0.0    & 1      &  1     & 3      & 1      & 1     \\\\\n",
       "\t 58     & Female & 4      & 130    & 197    & 0      & 0      & 131    & 0      & 0.6    & 2      &  0     & 3      & 0      & 0     \\\\\n",
       "\t 57     & Male   & 4      & 110    & 335    & 0      & 0      & 143    & 1      & 3.0    & 2      &  1     & 7      & 2      & 1     \\\\\n",
       "\t 47     & Male   & 3      & 130    & 253    & 0      & 0      & 179    & 0      & 0.0    & 1      &  0     & 3      & 0      & 0     \\\\\n",
       "\t 55     & Female & 4      & 128    & 205    & 0      & 1      & 130    & 1      & 2.0    & 2      &  1     & 7      & 3      & 1     \\\\\n",
       "\t 35     & Male   & 2      & 122    & 192    & 0      & 0      & 174    & 0      & 0.0    & 1      &  0     & 3      & 0      & 0     \\\\\n",
       "\t 61     & Male   & 4      & 148    & 203    & 0      & 0      & 161    & 0      & 0.0    & 1      &  1     & 7      & 2      & 1     \\\\\n",
       "\t 58     & Male   & 4      & 114    & 318    & 0      & 1      & 140    & 0      & 4.4    & 3      &  3     & 6      & 4      & 1     \\\\\n",
       "\t 58     & Female & 4      & 170    & 225    & 1      & 2      & 146    & 1      & 2.8    & 2      &  2     & 6      & 2      & 1     \\\\\n",
       "\t 58     & Male   & 2      & 125    & 220    & 0      & 0      & 144    & 0      & 0.4    & 2      & NA     & 7      & 0      & 0     \\\\\n",
       "\t 56     & Male   & 2      & 130    & 221    & 0      & 2      & 163    & 0      & 0.0    & 1      &  0     & 7      & 0      & 0     \\\\\n",
       "\t 56     & Male   & 2      & 120    & 240    & 0      & 0      & 169    & 0      & 0.0    & 3      &  0     & 3      & 0      & 0     \\\\\n",
       "\t 67     & Male   & 3      & 152    & 212    & 0      & 2      & 150    & 0      & 0.8    & 2      &  0     & 7      & 1      & 1     \\\\\n",
       "\t 55     & Female & 2      & 132    & 342    & 0      & 0      & 166    & 0      & 1.2    & 1      &  0     & 3      & 0      & 0     \\\\\n",
       "\t 44     & Male   & 4      & 120    & 169    & 0      & 0      & 144    & 1      & 2.8    & 3      &  0     & 6      & 2      & 1     \\\\\n",
       "\t 63     & Male   & 4      & 140    & 187    & 0      & 2      & 144    & 1      & 4.0    & 1      &  2     & 7      & 2      & 1     \\\\\n",
       "\t 63     & Female & 4      & 124    & 197    & 0      & 0      & 136    & 1      & 0.0    & 2      &  0     & 3      & 1      & 1     \\\\\n",
       "\t 41     & Male   & 2      & 120    & 157    & 0      & 0      & 182    & 0      & 0.0    & 1      &  0     & 3      & 0      & 0     \\\\\n",
       "\t 59     & Male   & 4      & 164    & 176    & 1      & 2      &  90    & 0      & 1.0    & 2      &  2     & 6      & 3      & 1     \\\\\n",
       "\t 57     & Female & 4      & 140    & 241    & 0      & 0      & 123    & 1      & 0.2    & 2      &  0     & 7      & 1      & 1     \\\\\n",
       "\t 45     & Male   & 1      & 110    & 264    & 0      & 0      & 132    & 0      & 1.2    & 2      &  0     & 7      & 1      & 1     \\\\\n",
       "\t 68     & Male   & 4      & 144    & 193    & 1      & 0      & 141    & 0      & 3.4    & 2      &  2     & 7      & 2      & 1     \\\\\n",
       "\t 57     & Male   & 4      & 130    & 131    & 0      & 0      & 115    & 1      & 1.2    & 2      &  1     & 7      & 3      & 1     \\\\\n",
       "\t 57     & Female & 2      & 130    & 236    & 0      & 2      & 174    & 0      & 0.0    & 2      &  1     & 3      & 1      & 1     \\\\\n",
       "\t 38     & Male   & 3      & 138    & 175    & 0      & 0      & 173    & 0      & 0.0    & 1      & NA     & 3      & 0      & 0     \\\\\n",
       "\\end{tabular}\n"
      ],
      "text/markdown": [
       "\n",
       "| age | sex | cp | trestbps | chol | fbs | restecg | thalach | exang | oldpeak | slope | ca | thal | class | hd |\n",
       "|---|---|---|---|---|---|---|---|---|---|---|---|---|---|---|\n",
       "| 63     | Male   | 1      | 145    | 233    | 1      | 2      | 150    | 0      | 2.3    | 3      | 0      | 6      | 0      | 0      |\n",
       "| 67     | Male   | 4      | 160    | 286    | 0      | 2      | 108    | 1      | 1.5    | 2      | 3      | 3      | 2      | 1      |\n",
       "| 67     | Male   | 4      | 120    | 229    | 0      | 2      | 129    | 1      | 2.6    | 2      | 2      | 7      | 1      | 1      |\n",
       "| 37     | Male   | 3      | 130    | 250    | 0      | 0      | 187    | 0      | 3.5    | 3      | 0      | 3      | 0      | 0      |\n",
       "| 41     | Female | 2      | 130    | 204    | 0      | 2      | 172    | 0      | 1.4    | 1      | 0      | 3      | 0      | 0      |\n",
       "| 56     | Male   | 2      | 120    | 236    | 0      | 0      | 178    | 0      | 0.8    | 1      | 0      | 3      | 0      | 0      |\n",
       "| 62     | Female | 4      | 140    | 268    | 0      | 2      | 160    | 0      | 3.6    | 3      | 2      | 3      | 3      | 1      |\n",
       "| 57     | Female | 4      | 120    | 354    | 0      | 0      | 163    | 1      | 0.6    | 1      | 0      | 3      | 0      | 0      |\n",
       "| 63     | Male   | 4      | 130    | 254    | 0      | 2      | 147    | 0      | 1.4    | 2      | 1      | 7      | 2      | 1      |\n",
       "| 53     | Male   | 4      | 140    | 203    | 1      | 2      | 155    | 1      | 3.1    | 3      | 0      | 7      | 1      | 1      |\n",
       "| 57     | Male   | 4      | 140    | 192    | 0      | 0      | 148    | 0      | 0.4    | 2      | 0      | 6      | 0      | 0      |\n",
       "| 56     | Female | 2      | 140    | 294    | 0      | 2      | 153    | 0      | 1.3    | 2      | 0      | 3      | 0      | 0      |\n",
       "| 56     | Male   | 3      | 130    | 256    | 1      | 2      | 142    | 1      | 0.6    | 2      | 1      | 6      | 2      | 1      |\n",
       "| 44     | Male   | 2      | 120    | 263    | 0      | 0      | 173    | 0      | 0.0    | 1      | 0      | 7      | 0      | 0      |\n",
       "| 52     | Male   | 3      | 172    | 199    | 1      | 0      | 162    | 0      | 0.5    | 1      | 0      | 7      | 0      | 0      |\n",
       "| 57     | Male   | 3      | 150    | 168    | 0      | 0      | 174    | 0      | 1.6    | 1      | 0      | 3      | 0      | 0      |\n",
       "| 48     | Male   | 2      | 110    | 229    | 0      | 0      | 168    | 0      | 1.0    | 3      | 0      | 7      | 1      | 1      |\n",
       "| 54     | Male   | 4      | 140    | 239    | 0      | 0      | 160    | 0      | 1.2    | 1      | 0      | 3      | 0      | 0      |\n",
       "| 48     | Female | 3      | 130    | 275    | 0      | 0      | 139    | 0      | 0.2    | 1      | 0      | 3      | 0      | 0      |\n",
       "| 49     | Male   | 2      | 130    | 266    | 0      | 0      | 171    | 0      | 0.6    | 1      | 0      | 3      | 0      | 0      |\n",
       "| 64     | Male   | 1      | 110    | 211    | 0      | 2      | 144    | 1      | 1.8    | 2      | 0      | 3      | 0      | 0      |\n",
       "| 58     | Female | 1      | 150    | 283    | 1      | 2      | 162    | 0      | 1.0    | 1      | 0      | 3      | 0      | 0      |\n",
       "| 58     | Male   | 2      | 120    | 284    | 0      | 2      | 160    | 0      | 1.8    | 2      | 0      | 3      | 1      | 1      |\n",
       "| 58     | Male   | 3      | 132    | 224    | 0      | 2      | 173    | 0      | 3.2    | 1      | 2      | 7      | 3      | 1      |\n",
       "| 60     | Male   | 4      | 130    | 206    | 0      | 2      | 132    | 1      | 2.4    | 2      | 2      | 7      | 4      | 1      |\n",
       "| 50     | Female | 3      | 120    | 219    | 0      | 0      | 158    | 0      | 1.6    | 2      | 0      | 3      | 0      | 0      |\n",
       "| 58     | Female | 3      | 120    | 340    | 0      | 0      | 172    | 0      | 0.0    | 1      | 0      | 3      | 0      | 0      |\n",
       "| 66     | Female | 1      | 150    | 226    | 0      | 0      | 114    | 0      | 2.6    | 3      | 0      | 3      | 0      | 0      |\n",
       "| 43     | Male   | 4      | 150    | 247    | 0      | 0      | 171    | 0      | 1.5    | 1      | 0      | 3      | 0      | 0      |\n",
       "| 40     | Male   | 4      | 110    | 167    | 0      | 2      | 114    | 1      | 2.0    | 2      | 0      | 7      | 3      | 1      |\n",
       "| ... | ... | ... | ... | ... | ... | ... | ... | ... | ... | ... | ... | ... | ... | ... |\n",
       "| 71     | Female | 4      | 112    | 149    | 0      | 0      | 125    | 0      | 1.6    | 2      |  0     | 3      | 0      | 0      |\n",
       "| 59     | Male   | 1      | 134    | 204    | 0      | 0      | 162    | 0      | 0.8    | 1      |  2     | 3      | 1      | 1      |\n",
       "| 64     | Male   | 1      | 170    | 227    | 0      | 2      | 155    | 0      | 0.6    | 2      |  0     | 7      | 0      | 0      |\n",
       "| 66     | Female | 3      | 146    | 278    | 0      | 2      | 152    | 0      | 0.0    | 2      |  1     | 3      | 0      | 0      |\n",
       "| 39     | Female | 3      | 138    | 220    | 0      | 0      | 152    | 0      | 0.0    | 2      |  0     | 3      | 0      | 0      |\n",
       "| 57     | Male   | 2      | 154    | 232    | 0      | 2      | 164    | 0      | 0.0    | 1      |  1     | 3      | 1      | 1      |\n",
       "| 58     | Female | 4      | 130    | 197    | 0      | 0      | 131    | 0      | 0.6    | 2      |  0     | 3      | 0      | 0      |\n",
       "| 57     | Male   | 4      | 110    | 335    | 0      | 0      | 143    | 1      | 3.0    | 2      |  1     | 7      | 2      | 1      |\n",
       "| 47     | Male   | 3      | 130    | 253    | 0      | 0      | 179    | 0      | 0.0    | 1      |  0     | 3      | 0      | 0      |\n",
       "| 55     | Female | 4      | 128    | 205    | 0      | 1      | 130    | 1      | 2.0    | 2      |  1     | 7      | 3      | 1      |\n",
       "| 35     | Male   | 2      | 122    | 192    | 0      | 0      | 174    | 0      | 0.0    | 1      |  0     | 3      | 0      | 0      |\n",
       "| 61     | Male   | 4      | 148    | 203    | 0      | 0      | 161    | 0      | 0.0    | 1      |  1     | 7      | 2      | 1      |\n",
       "| 58     | Male   | 4      | 114    | 318    | 0      | 1      | 140    | 0      | 4.4    | 3      |  3     | 6      | 4      | 1      |\n",
       "| 58     | Female | 4      | 170    | 225    | 1      | 2      | 146    | 1      | 2.8    | 2      |  2     | 6      | 2      | 1      |\n",
       "| 58     | Male   | 2      | 125    | 220    | 0      | 0      | 144    | 0      | 0.4    | 2      | NA     | 7      | 0      | 0      |\n",
       "| 56     | Male   | 2      | 130    | 221    | 0      | 2      | 163    | 0      | 0.0    | 1      |  0     | 7      | 0      | 0      |\n",
       "| 56     | Male   | 2      | 120    | 240    | 0      | 0      | 169    | 0      | 0.0    | 3      |  0     | 3      | 0      | 0      |\n",
       "| 67     | Male   | 3      | 152    | 212    | 0      | 2      | 150    | 0      | 0.8    | 2      |  0     | 7      | 1      | 1      |\n",
       "| 55     | Female | 2      | 132    | 342    | 0      | 0      | 166    | 0      | 1.2    | 1      |  0     | 3      | 0      | 0      |\n",
       "| 44     | Male   | 4      | 120    | 169    | 0      | 0      | 144    | 1      | 2.8    | 3      |  0     | 6      | 2      | 1      |\n",
       "| 63     | Male   | 4      | 140    | 187    | 0      | 2      | 144    | 1      | 4.0    | 1      |  2     | 7      | 2      | 1      |\n",
       "| 63     | Female | 4      | 124    | 197    | 0      | 0      | 136    | 1      | 0.0    | 2      |  0     | 3      | 1      | 1      |\n",
       "| 41     | Male   | 2      | 120    | 157    | 0      | 0      | 182    | 0      | 0.0    | 1      |  0     | 3      | 0      | 0      |\n",
       "| 59     | Male   | 4      | 164    | 176    | 1      | 2      |  90    | 0      | 1.0    | 2      |  2     | 6      | 3      | 1      |\n",
       "| 57     | Female | 4      | 140    | 241    | 0      | 0      | 123    | 1      | 0.2    | 2      |  0     | 7      | 1      | 1      |\n",
       "| 45     | Male   | 1      | 110    | 264    | 0      | 0      | 132    | 0      | 1.2    | 2      |  0     | 7      | 1      | 1      |\n",
       "| 68     | Male   | 4      | 144    | 193    | 1      | 0      | 141    | 0      | 3.4    | 2      |  2     | 7      | 2      | 1      |\n",
       "| 57     | Male   | 4      | 130    | 131    | 0      | 0      | 115    | 1      | 1.2    | 2      |  1     | 7      | 3      | 1      |\n",
       "| 57     | Female | 2      | 130    | 236    | 0      | 2      | 174    | 0      | 0.0    | 2      |  1     | 3      | 1      | 1      |\n",
       "| 38     | Male   | 3      | 138    | 175    | 0      | 0      | 173    | 0      | 0.0    | 1      | NA     | 3      | 0      | 0      |\n",
       "\n"
      ],
      "text/plain": [
       "    age sex    cp  trestbps chol fbs restecg thalach exang oldpeak slope ca \n",
       "1   63  Male   1   145      233  1   2       150     0     2.3     3     0  \n",
       "2   67  Male   4   160      286  0   2       108     1     1.5     2     3  \n",
       "3   67  Male   4   120      229  0   2       129     1     2.6     2     2  \n",
       "4   37  Male   3   130      250  0   0       187     0     3.5     3     0  \n",
       "5   41  Female 2   130      204  0   2       172     0     1.4     1     0  \n",
       "6   56  Male   2   120      236  0   0       178     0     0.8     1     0  \n",
       "7   62  Female 4   140      268  0   2       160     0     3.6     3     2  \n",
       "8   57  Female 4   120      354  0   0       163     1     0.6     1     0  \n",
       "9   63  Male   4   130      254  0   2       147     0     1.4     2     1  \n",
       "10  53  Male   4   140      203  1   2       155     1     3.1     3     0  \n",
       "11  57  Male   4   140      192  0   0       148     0     0.4     2     0  \n",
       "12  56  Female 2   140      294  0   2       153     0     1.3     2     0  \n",
       "13  56  Male   3   130      256  1   2       142     1     0.6     2     1  \n",
       "14  44  Male   2   120      263  0   0       173     0     0.0     1     0  \n",
       "15  52  Male   3   172      199  1   0       162     0     0.5     1     0  \n",
       "16  57  Male   3   150      168  0   0       174     0     1.6     1     0  \n",
       "17  48  Male   2   110      229  0   0       168     0     1.0     3     0  \n",
       "18  54  Male   4   140      239  0   0       160     0     1.2     1     0  \n",
       "19  48  Female 3   130      275  0   0       139     0     0.2     1     0  \n",
       "20  49  Male   2   130      266  0   0       171     0     0.6     1     0  \n",
       "21  64  Male   1   110      211  0   2       144     1     1.8     2     0  \n",
       "22  58  Female 1   150      283  1   2       162     0     1.0     1     0  \n",
       "23  58  Male   2   120      284  0   2       160     0     1.8     2     0  \n",
       "24  58  Male   3   132      224  0   2       173     0     3.2     1     2  \n",
       "25  60  Male   4   130      206  0   2       132     1     2.4     2     2  \n",
       "26  50  Female 3   120      219  0   0       158     0     1.6     2     0  \n",
       "27  58  Female 3   120      340  0   0       172     0     0.0     1     0  \n",
       "28  66  Female 1   150      226  0   0       114     0     2.6     3     0  \n",
       "29  43  Male   4   150      247  0   0       171     0     1.5     1     0  \n",
       "30  40  Male   4   110      167  0   2       114     1     2.0     2     0  \n",
       "... ... ...    ... ...      ...  ... ...     ...     ...   ...     ...   ...\n",
       "274 71  Female 4   112      149  0   0       125     0     1.6     2      0 \n",
       "275 59  Male   1   134      204  0   0       162     0     0.8     1      2 \n",
       "276 64  Male   1   170      227  0   2       155     0     0.6     2      0 \n",
       "277 66  Female 3   146      278  0   2       152     0     0.0     2      1 \n",
       "278 39  Female 3   138      220  0   0       152     0     0.0     2      0 \n",
       "279 57  Male   2   154      232  0   2       164     0     0.0     1      1 \n",
       "280 58  Female 4   130      197  0   0       131     0     0.6     2      0 \n",
       "281 57  Male   4   110      335  0   0       143     1     3.0     2      1 \n",
       "282 47  Male   3   130      253  0   0       179     0     0.0     1      0 \n",
       "283 55  Female 4   128      205  0   1       130     1     2.0     2      1 \n",
       "284 35  Male   2   122      192  0   0       174     0     0.0     1      0 \n",
       "285 61  Male   4   148      203  0   0       161     0     0.0     1      1 \n",
       "286 58  Male   4   114      318  0   1       140     0     4.4     3      3 \n",
       "287 58  Female 4   170      225  1   2       146     1     2.8     2      2 \n",
       "288 58  Male   2   125      220  0   0       144     0     0.4     2     NA \n",
       "289 56  Male   2   130      221  0   2       163     0     0.0     1      0 \n",
       "290 56  Male   2   120      240  0   0       169     0     0.0     3      0 \n",
       "291 67  Male   3   152      212  0   2       150     0     0.8     2      0 \n",
       "292 55  Female 2   132      342  0   0       166     0     1.2     1      0 \n",
       "293 44  Male   4   120      169  0   0       144     1     2.8     3      0 \n",
       "294 63  Male   4   140      187  0   2       144     1     4.0     1      2 \n",
       "295 63  Female 4   124      197  0   0       136     1     0.0     2      0 \n",
       "296 41  Male   2   120      157  0   0       182     0     0.0     1      0 \n",
       "297 59  Male   4   164      176  1   2        90     0     1.0     2      2 \n",
       "298 57  Female 4   140      241  0   0       123     1     0.2     2      0 \n",
       "299 45  Male   1   110      264  0   0       132     0     1.2     2      0 \n",
       "300 68  Male   4   144      193  1   0       141     0     3.4     2      2 \n",
       "301 57  Male   4   130      131  0   0       115     1     1.2     2      1 \n",
       "302 57  Female 2   130      236  0   2       174     0     0.0     2      1 \n",
       "303 38  Male   3   138      175  0   0       173     0     0.0     1     NA \n",
       "    thal class hd \n",
       "1   6    0     0  \n",
       "2   3    2     1  \n",
       "3   7    1     1  \n",
       "4   3    0     0  \n",
       "5   3    0     0  \n",
       "6   3    0     0  \n",
       "7   3    3     1  \n",
       "8   3    0     0  \n",
       "9   7    2     1  \n",
       "10  7    1     1  \n",
       "11  6    0     0  \n",
       "12  3    0     0  \n",
       "13  6    2     1  \n",
       "14  7    0     0  \n",
       "15  7    0     0  \n",
       "16  3    0     0  \n",
       "17  7    1     1  \n",
       "18  3    0     0  \n",
       "19  3    0     0  \n",
       "20  3    0     0  \n",
       "21  3    0     0  \n",
       "22  3    0     0  \n",
       "23  3    1     1  \n",
       "24  7    3     1  \n",
       "25  7    4     1  \n",
       "26  3    0     0  \n",
       "27  3    0     0  \n",
       "28  3    0     0  \n",
       "29  3    0     0  \n",
       "30  7    3     1  \n",
       "... ...  ...   ...\n",
       "274 3    0     0  \n",
       "275 3    1     1  \n",
       "276 7    0     0  \n",
       "277 3    0     0  \n",
       "278 3    0     0  \n",
       "279 3    1     1  \n",
       "280 3    0     0  \n",
       "281 7    2     1  \n",
       "282 3    0     0  \n",
       "283 7    3     1  \n",
       "284 3    0     0  \n",
       "285 7    2     1  \n",
       "286 6    4     1  \n",
       "287 6    2     1  \n",
       "288 7    0     0  \n",
       "289 7    0     0  \n",
       "290 3    0     0  \n",
       "291 7    1     1  \n",
       "292 3    0     0  \n",
       "293 6    2     1  \n",
       "294 7    2     1  \n",
       "295 3    1     1  \n",
       "296 3    0     0  \n",
       "297 6    3     1  \n",
       "298 7    1     1  \n",
       "299 7    1     1  \n",
       "300 7    2     1  \n",
       "301 7    3     1  \n",
       "302 3    1     1  \n",
       "303 3    0     0  "
      ]
     },
     "metadata": {},
     "output_type": "display_data"
    }
   ],
   "source": [
    "# load the tidyverse package\n",
    "library('tidyverse')\n",
    "# Use the 'mutate' function from dplyr to recode our data\n",
    "hd_data %>% mutate(hd = ifelse(class > 0, 1, 0))-> hd_data\n",
    "\n",
    "# recode sex using mutate function and save as hd_data\n",
    "hd_data %>% mutate(sex = factor(sex, levels = 0:1, labels = c(\"Female\", \"Male\")))-> hd_data\n",
    "hd_data"
   ]
  },
  {
   "cell_type": "markdown",
   "metadata": {
    "dc": {
     "key": "17"
    },
    "deletable": false,
    "editable": false,
    "run_control": {
     "frozen": true
    },
    "tags": [
     "context"
    ]
   },
   "source": [
    "## 3. Identifying important clinical variables\n",
    "<p>Now, let's use statistical tests to see which predictors are related to heart disease. We can explore the associations for each variable in the dataset. Depending on the type of the data (i.e., continuous or categorical), we use t-test or chi-squared test to calculate the p-values.</p>\n",
    "<p>Recall, t-test is used to determine whether there is a significant difference between the means of two groups (e.g., is the mean age from group A different from the mean age from group B?). A chi-squared test for independence compares the equivalence of two proportions.</p>"
   ]
  },
  {
   "cell_type": "code",
   "execution_count": 3,
   "metadata": {
    "dc": {
     "key": "17"
    },
    "tags": [
     "sample_code"
    ]
   },
   "outputs": [
    {
     "name": "stdout",
     "output_type": "stream",
     "text": [
      "        \n",
      "         no desease heart desease\n",
      "  Female         72            25\n",
      "  Male           92           114\n",
      "\n",
      "\tPearson's Chi-squared test with Yates' continuity correction\n",
      "\n",
      "data:  hd_data$sex and hd_data$hd\n",
      "X-squared = 22.043, df = 1, p-value = 2.667e-06\n",
      "\n",
      "\n",
      "\tPearson's Chi-squared test with Yates' continuity correction\n",
      "\n",
      "data:  hd_data$sex and hd_data$hd\n",
      "X-squared = 22.043, df = 1, p-value = 2.667e-06\n",
      "\n",
      "\n",
      "\tWelch Two Sample t-test\n",
      "\n",
      "data:  hd_data$age by hd_data$hd\n",
      "t = -4.0303, df = 300.93, p-value = 7.061e-05\n",
      "alternative hypothesis: true difference in means is not equal to 0\n",
      "95 percent confidence interval:\n",
      " -6.013385 -2.067682\n",
      "sample estimates:\n",
      "mean in group 0 mean in group 1 \n",
      "       52.58537        56.62590 \n",
      "\n",
      "\n",
      "\tWelch Two Sample t-test\n",
      "\n",
      "data:  hd_data$thalach by hd_data$hd\n",
      "t = 7.8579, df = 272.27, p-value = 9.106e-14\n",
      "alternative hypothesis: true difference in means is not equal to 0\n",
      "95 percent confidence interval:\n",
      " 14.32900 23.90912\n",
      "sample estimates:\n",
      "mean in group 0 mean in group 1 \n",
      "        158.378         139.259 \n",
      "\n"
     ]
    }
   ],
   "source": [
    "# Does sex have an effect? Sex is a binary variable in this dataset,\n",
    "# so the appropriate test is chi-squared test\n",
    "contingency_table = table(hd_data$sex, \n",
    "                          factor(hd_data$hd, labels = c(\"no desease\", \"heart desease\")))\n",
    "print(contingency_table)\n",
    "hd_sex <- chisq.test(hd_data$sex, hd_data$hd)\n",
    "print(hd_sex)\n",
    "# Does age have an effect? Age is continuous, so we use a t-test\n",
    "hd_age <- t.test(hd_data$age ~ hd_data$hd)\n",
    "\n",
    "# What about thalach? Thalach is continuous, so we use a t-test\n",
    "hd_heartrate <- t.test(hd_data$thalach ~ hd_data$hd)\n",
    "\n",
    "# Print the results to see if p<0.05.\n",
    "print(hd_sex)\n",
    "print(hd_age)\n",
    "print(hd_heartrate)"
   ]
  },
  {
   "cell_type": "markdown",
   "metadata": {
    "dc": {
     "key": "24"
    },
    "deletable": false,
    "editable": false,
    "run_control": {
     "frozen": true
    },
    "tags": [
     "context"
    ]
   },
   "source": [
    "## 4. Explore the associations graphically (i)\n",
    "<p>A good picture is worth a thousand words. In addition to p-values from statistical tests, we can plot the age, sex, and maximum heart rate distributions with respect to our outcome variable. This will give us a sense of both the direction and magnitude of the relationship.</p>\n",
    "<p>First, let's plot age using a boxplot since it is a continuous variable.</p>"
   ]
  },
  {
   "cell_type": "code",
   "execution_count": 4,
   "metadata": {
    "dc": {
     "key": "24"
    },
    "tags": [
     "sample_code"
    ]
   },
   "outputs": [
    {
     "data": {
      "image/png": "[encoded data removed]",
      "text/plain": [
       "plot without title"
      ]
     },
     "metadata": {},
     "output_type": "display_data"
    }
   ],
   "source": [
    "# Recode hd to be labelled\n",
    "hd_data %>% mutate(hd_labelled = ifelse(hd == 0, \"No Disease\", \"Disease\")) -> hd_data\n",
    "\n",
    "# age vs hd\n",
    "ggplot(data = hd_data, aes(x = hd_labelled,y = age)) + geom_boxplot()"
   ]
  },
  {
   "cell_type": "markdown",
   "metadata": {
    "dc": {
     "key": "31"
    },
    "deletable": false,
    "editable": false,
    "run_control": {
     "frozen": true
    },
    "tags": [
     "context"
    ]
   },
   "source": [
    "## 5. Explore the associations graphically (ii)\n",
    "<p>Next, let's plot sex using a barplot since it is a binary variable in this dataset.</p>"
   ]
  },
  {
   "cell_type": "code",
   "execution_count": 5,
   "metadata": {
    "dc": {
     "key": "31"
    },
    "tags": [
     "sample_code"
    ]
   },
   "outputs": [
    {
     "data": {
      "image/png": "[encoded data removed]",
      "text/plain": [
       "plot without title"
      ]
     },
     "metadata": {},
     "output_type": "display_data"
    }
   ],
   "source": [
    "# sex vs hd\n",
    "ggplot(data = hd_data, aes(x=hd_labelled, fill=sex)) + geom_bar(position=\"fill\") + ylab(\"Sex %\")"
   ]
  },
  {
   "cell_type": "markdown",
   "metadata": {
    "dc": {
     "key": "38"
    },
    "deletable": false,
    "editable": false,
    "run_control": {
     "frozen": true
    },
    "tags": [
     "context"
    ]
   },
   "source": [
    "## 6. Explore the associations graphically (iii)\n",
    "<p>And finally, let's plot thalach using a boxplot since it is a continuous variable.</p>"
   ]
  },
  {
   "cell_type": "code",
   "execution_count": 6,
   "metadata": {
    "dc": {
     "key": "38"
    },
    "tags": [
     "sample_code"
    ]
   },
   "outputs": [
    {
     "data": {
      "image/png": "[encoded data removed]",
      "text/plain": [
       "plot without title"
      ]
     },
     "metadata": {},
     "output_type": "display_data"
    }
   ],
   "source": [
    "# max heart rate vs hd\n",
    "ggplot(data = hd_data, aes(x = hd_labelled, y = thalach)) + geom_boxplot()"
   ]
  },
  {
   "cell_type": "markdown",
   "metadata": {
    "dc": {
     "key": "45"
    },
    "deletable": false,
    "editable": false,
    "run_control": {
     "frozen": true
    },
    "tags": [
     "context"
    ]
   },
   "source": [
    "## 7. Putting all three variables in one model\n",
    "<p>The plots and the statistical tests both confirmed that all the three variables are highly significantly associated with our outcome (p&lt;0.001 for all tests). </p>\n",
    "<p>In general, we want to use multiple logistic regression when we have one binary outcome variable and two or more predicting variables. The binary variable is the dependent (Y) variable; we are studying the effect that the independent (X) variables have on the probability of obtaining a particular value of the dependent variable. For example, we might want to know the effect that maximum heart rate, age, and sex have on the probability that a person will have a heart disease in the next year. The model will also tell us what the remaining effect of maximum heart rate is after we control or adjust for the effects of the other two effectors. </p>\n",
    "<p>The <code>glm()</code> command is designed to perform generalized linear models (regressions) on binary outcome data, count data, probability data, proportion data, and many other data types. In our case, the outcome is binary following a binomial distribution.</p>"
   ]
  },
  {
   "cell_type": "code",
   "execution_count": 7,
   "metadata": {
    "dc": {
     "key": "45"
    },
    "tags": [
     "sample_code"
    ]
   },
   "outputs": [
    {
     "data": {
      "text/plain": [
       "\n",
       "Call:\n",
       "glm(formula = hd ~ age + sex + thalach, family = \"binomial\", \n",
       "    data = hd_data)\n",
       "\n",
       "Deviance Residuals: \n",
       "    Min       1Q   Median       3Q      Max  \n",
       "-2.2250  -0.8486  -0.4570   0.9043   2.1156  \n",
       "\n",
       "Coefficients:\n",
       "             Estimate Std. Error z value Pr(>|z|)    \n",
       "(Intercept)  3.111610   1.607466   1.936   0.0529 .  \n",
       "age          0.031886   0.016440   1.940   0.0524 .  \n",
       "sexMale      1.491902   0.307193   4.857 1.19e-06 ***\n",
       "thalach     -0.040541   0.007073  -5.732 9.93e-09 ***\n",
       "---\n",
       "Signif. codes:  0 '***' 0.001 '**' 0.01 '*' 0.05 '.' 0.1 ' ' 1\n",
       "\n",
       "(Dispersion parameter for binomial family taken to be 1)\n",
       "\n",
       "    Null deviance: 417.98  on 302  degrees of freedom\n",
       "Residual deviance: 332.85  on 299  degrees of freedom\n",
       "AIC: 340.85\n",
       "\n",
       "Number of Fisher Scoring iterations: 4\n"
      ]
     },
     "metadata": {},
     "output_type": "display_data"
    }
   ],
   "source": [
    "# use glm function from base R and specify the family argument as binomial\n",
    "model <- glm(data = hd_data, hd ~ age + sex + thalach, family = \"binomial\")\n",
    "\n",
    "# extract the model summary\n",
    "summary(model)"
   ]
  },
  {
   "cell_type": "markdown",
   "metadata": {
    "dc": {
     "key": "52"
    },
    "deletable": false,
    "editable": false,
    "run_control": {
     "frozen": true
    },
    "tags": [
     "context"
    ]
   },
   "source": [
    "## 8. Extracting useful information from the model output\n",
    "<p>It's common practice in medical research to report Odds Ratio (OR) to quantify how strongly the presence or absence of property A is associated with the presence or absence of the outcome. When the OR is greater than 1, we say A is positively associated with outcome B (increases the Odds of having B). Otherwise, we say A is negatively associated with B (decreases the Odds of having B).</p>\n",
    "<p>The raw glm coefficient table (the 'estimate' column in the printed output) in R represents the log(Odds Ratios) of the outcome. Therefore, we need to convert the values to the original OR scale and calculate the corresponding 95% Confidence Interval (CI) of the estimated Odds Ratios when reporting results from a logistic regression. </p>"
   ]
  },
  {
   "cell_type": "code",
   "execution_count": 8,
   "metadata": {
    "dc": {
     "key": "52"
    },
    "tags": [
     "sample_code"
    ]
   },
   "outputs": [
    {
     "data": {
      "text/html": [
       "<table>\n",
       "<thead><tr><th scope=col>term</th><th scope=col>estimate</th><th scope=col>std.error</th><th scope=col>statistic</th><th scope=col>p.value</th></tr></thead>\n",
       "<tbody>\n",
       "\t<tr><td>(Intercept) </td><td> 3.11161046 </td><td>1.607466382 </td><td> 1.935724   </td><td>5.290157e-02</td></tr>\n",
       "\t<tr><td>age         </td><td> 0.03188572 </td><td>0.016439824 </td><td> 1.939541   </td><td>5.243548e-02</td></tr>\n",
       "\t<tr><td>sexMale     </td><td> 1.49190218 </td><td>0.307192627 </td><td> 4.856569   </td><td>1.194372e-06</td></tr>\n",
       "\t<tr><td>thalach     </td><td>-0.04054143 </td><td>0.007072952 </td><td>-5.731897   </td><td>9.931367e-09</td></tr>\n",
       "</tbody>\n",
       "</table>\n"
      ],
      "text/latex": [
       "\\begin{tabular}{r|lllll}\n",
       " term & estimate & std.error & statistic & p.value\\\\\n",
       "\\hline\n",
       "\t (Intercept)  &  3.11161046  & 1.607466382  &  1.935724    & 5.290157e-02\\\\\n",
       "\t age          &  0.03188572  & 0.016439824  &  1.939541    & 5.243548e-02\\\\\n",
       "\t sexMale      &  1.49190218  & 0.307192627  &  4.856569    & 1.194372e-06\\\\\n",
       "\t thalach      & -0.04054143  & 0.007072952  & -5.731897    & 9.931367e-09\\\\\n",
       "\\end{tabular}\n"
      ],
      "text/markdown": [
       "\n",
       "| term | estimate | std.error | statistic | p.value |\n",
       "|---|---|---|---|---|\n",
       "| (Intercept)  |  3.11161046  | 1.607466382  |  1.935724    | 5.290157e-02 |\n",
       "| age          |  0.03188572  | 0.016439824  |  1.939541    | 5.243548e-02 |\n",
       "| sexMale      |  1.49190218  | 0.307192627  |  4.856569    | 1.194372e-06 |\n",
       "| thalach      | -0.04054143  | 0.007072952  | -5.731897    | 9.931367e-09 |\n",
       "\n"
      ],
      "text/plain": [
       "  term        estimate    std.error   statistic p.value     \n",
       "1 (Intercept)  3.11161046 1.607466382  1.935724 5.290157e-02\n",
       "2 age          0.03188572 0.016439824  1.939541 5.243548e-02\n",
       "3 sexMale      1.49190218 0.307192627  4.856569 1.194372e-06\n",
       "4 thalach     -0.04054143 0.007072952 -5.731897 9.931367e-09"
      ]
     },
     "metadata": {},
     "output_type": "display_data"
    },
    {
     "data": {
      "text/html": [
       "<table>\n",
       "<thead><tr><th scope=col>term</th><th scope=col>estimate</th><th scope=col>std.error</th><th scope=col>statistic</th><th scope=col>p.value</th><th scope=col>OR</th><th scope=col>lower_CI</th><th scope=col>upper_CI</th></tr></thead>\n",
       "<tbody>\n",
       "\t<tr><td>(Intercept) </td><td> 3.11161046 </td><td>1.607466382 </td><td> 1.935724   </td><td>5.290157e-02</td><td>22.4571817  </td><td>0.9617280   </td><td>524.3946593 </td></tr>\n",
       "\t<tr><td>age         </td><td> 0.03188572 </td><td>0.016439824 </td><td> 1.939541   </td><td>5.243548e-02</td><td> 1.0323995  </td><td>0.9996637   </td><td>  1.0662073 </td></tr>\n",
       "\t<tr><td>sexMale     </td><td> 1.49190218 </td><td>0.307192627 </td><td> 4.856569   </td><td>1.194372e-06</td><td> 4.4455437  </td><td>2.4346539   </td><td>  8.1173174 </td></tr>\n",
       "\t<tr><td>thalach     </td><td>-0.04054143 </td><td>0.007072952 </td><td>-5.731897   </td><td>9.931367e-09</td><td> 0.9602694  </td><td>0.9470490   </td><td>  0.9736743 </td></tr>\n",
       "</tbody>\n",
       "</table>\n"
      ],
      "text/latex": [
       "\\begin{tabular}{r|llllllll}\n",
       " term & estimate & std.error & statistic & p.value & OR & lower\\_CI & upper\\_CI\\\\\n",
       "\\hline\n",
       "\t (Intercept)  &  3.11161046  & 1.607466382  &  1.935724    & 5.290157e-02 & 22.4571817   & 0.9617280    & 524.3946593 \\\\\n",
       "\t age          &  0.03188572  & 0.016439824  &  1.939541    & 5.243548e-02 &  1.0323995   & 0.9996637    &   1.0662073 \\\\\n",
       "\t sexMale      &  1.49190218  & 0.307192627  &  4.856569    & 1.194372e-06 &  4.4455437   & 2.4346539    &   8.1173174 \\\\\n",
       "\t thalach      & -0.04054143  & 0.007072952  & -5.731897    & 9.931367e-09 &  0.9602694   & 0.9470490    &   0.9736743 \\\\\n",
       "\\end{tabular}\n"
      ],
      "text/markdown": [
       "\n",
       "| term | estimate | std.error | statistic | p.value | OR | lower_CI | upper_CI |\n",
       "|---|---|---|---|---|---|---|---|\n",
       "| (Intercept)  |  3.11161046  | 1.607466382  |  1.935724    | 5.290157e-02 | 22.4571817   | 0.9617280    | 524.3946593  |\n",
       "| age          |  0.03188572  | 0.016439824  |  1.939541    | 5.243548e-02 |  1.0323995   | 0.9996637    |   1.0662073  |\n",
       "| sexMale      |  1.49190218  | 0.307192627  |  4.856569    | 1.194372e-06 |  4.4455437   | 2.4346539    |   8.1173174  |\n",
       "| thalach      | -0.04054143  | 0.007072952  | -5.731897    | 9.931367e-09 |  0.9602694   | 0.9470490    |   0.9736743  |\n",
       "\n"
      ],
      "text/plain": [
       "  term        estimate    std.error   statistic p.value      OR        \n",
       "1 (Intercept)  3.11161046 1.607466382  1.935724 5.290157e-02 22.4571817\n",
       "2 age          0.03188572 0.016439824  1.939541 5.243548e-02  1.0323995\n",
       "3 sexMale      1.49190218 0.307192627  4.856569 1.194372e-06  4.4455437\n",
       "4 thalach     -0.04054143 0.007072952 -5.731897 9.931367e-09  0.9602694\n",
       "  lower_CI  upper_CI   \n",
       "1 0.9617280 524.3946593\n",
       "2 0.9996637   1.0662073\n",
       "3 2.4346539   8.1173174\n",
       "4 0.9470490   0.9736743"
      ]
     },
     "metadata": {},
     "output_type": "display_data"
    }
   ],
   "source": [
    "# load the broom package\n",
    "library(broom)\n",
    "\n",
    "# tidy up the coefficient table\n",
    "tidy_m <- tidy(model)\n",
    "tidy_m\n",
    "\n",
    "# calculate OR\n",
    "tidy_m$OR <- exp(tidy_m$estimate)\n",
    "\n",
    "# calculate 95% CI and save as lower CI and upper CI\n",
    "tidy_m$lower_CI <- exp(tidy_m$estimate - 1.96 * tidy_m$std.error)\n",
    "tidy_m$upper_CI <- exp(tidy_m$estimate + 1.96 * tidy_m$std.error)\n",
    "\n",
    "# display the updated coefficient table\n",
    "tidy_m"
   ]
  },
  {
   "cell_type": "markdown",
   "metadata": {
    "dc": {
     "key": "59"
    },
    "deletable": false,
    "editable": false,
    "run_control": {
     "frozen": true
    },
    "tags": [
     "context"
    ]
   },
   "source": [
    "## 9. Predicted probabilities from our model\n",
    "<p>So far, we have built a logistic regression model and examined the model coefficients/ORs. We may wonder how can we use this model we developed to predict a person's likelihood of having heart disease given his/her age, sex, and maximum heart rate. Furthermore, we'd like to translate the predicted probability into a decision rule for clinical use by defining a cutoff value on the probability scale. In practice, when an individual comes in for a health check-up, the doctor would like to know the predicted probability of heart disease, for specific values of the predictors: a 45-year-old female with a max heart rate of 150. To do that, we create a data frame called newdata, in which we include the desired values for our prediction.</p>"
   ]
  },
  {
   "cell_type": "code",
   "execution_count": 9,
   "metadata": {
    "dc": {
     "key": "59"
    },
    "tags": [
     "sample_code"
    ]
   },
   "outputs": [
    {
     "data": {
      "text/html": [
       "<strong>1:</strong> 0.177300249223781"
      ],
      "text/latex": [
       "\\textbf{1:} 0.177300249223781"
      ],
      "text/markdown": [
       "**1:** 0.177300249223781"
      ],
      "text/plain": [
       "        1 \n",
       "0.1773002 "
      ]
     },
     "metadata": {},
     "output_type": "display_data"
    }
   ],
   "source": [
    "# get the predicted probability in our dataset using the predict() function\n",
    "pred_prob <- predict(model, hd_data, type = \"response\")\n",
    "\n",
    "# create a decision rule using probability 0.5 as cutoff and save the predicted decision into the main data frame\n",
    "hd_data$pred_hd <- ifelse(pred_prob>=0.5, 1, 0)\n",
    "\n",
    "# create a newdata data frame to save a new case information\n",
    "newdata <- data.frame(age = 45, sex = \"Female\", thalach = 150)\n",
    "\n",
    "# predict probability for this new case and print out the predicted value\n",
    "p_new <- predict(model,newdata, type = \"response\")\n",
    "p_new"
   ]
  },
  {
   "cell_type": "markdown",
   "metadata": {
    "dc": {
     "key": "66"
    },
    "deletable": false,
    "editable": false,
    "run_control": {
     "frozen": true
    },
    "tags": [
     "context"
    ]
   },
   "source": [
    "## 10. Model performance metrics\n",
    "<p>Are the predictions accurate? How well does the model fit our data? We are going to use some common metrics to evaluate the model performance. The most straightforward one is Accuracy, which is the proportion of the total number of predictions that were correct. On the other hand, we can calculate the classification error rate using 1- accuracy. However, accuracy can be misleading when the response is rare (i.e., imbalanced response). Another popular metric, Area Under the ROC curve (AUC), has the advantage that it's independent of the change in the proportion of responders. AUC ranges from 0 to 1. The closer it gets to 1 the better the model performance. Lastly, a confusion matrix is an N X N matrix, where N is the level of outcome. For the problem at hand, we have N=2, and hence we get a 2 X 2 matrix. It cross-tabulates the predicted outcome levels against the true outcome levels.</p>\n",
    "<p>After these metrics are calculated, we'll see (from the logistic regression OR table) that older age, being male and having a lower max heart rate are all risk factors for heart disease. We can also apply our model to predict the probability of having heart disease. For a 45 years old female who has a max heart rate of 150, our model generated a heart disease probability of 0.177 indicating low risk of heart disease. Although our model has an overall accuracy of 0.71, there are cases that were misclassified as shown in the confusion matrix. One way to improve our current model is to include other relevant predictors from the dataset into our model, but that's a task for another day!</p>"
   ]
  },
  {
   "cell_type": "code",
   "execution_count": 10,
   "metadata": {
    "dc": {
     "key": "66"
    },
    "tags": [
     "sample_code"
    ]
   },
   "outputs": [
    {
     "name": "stdout",
     "output_type": "stream",
     "text": [
      "[1] \"AUC= 0.706483593612915\"\n",
      "[1] \"Accuracy= 0.70957095709571\"\n",
      "[1] \"Classification Error= 0.29042904290429\"\n"
     ]
    },
    {
     "data": {
      "text/plain": [
       "           Predicted Values\n",
       "True Status   0   1\n",
       "          0 122  42\n",
       "          1  46  93"
      ]
     },
     "metadata": {},
     "output_type": "display_data"
    }
   ],
   "source": [
    "# load Metrics package\n",
    "library(Metrics)\n",
    "\n",
    "# calculate auc, accuracy, clasification error\n",
    "auc <- auc(hd_data$hd, hd_data$pred_hd)\n",
    "accuracy <- accuracy(hd_data$hd, hd_data$pred_hd)\n",
    "classification_error <- ce(hd_data$hd, hd_data$pred_hd)\n",
    "\n",
    "# print out the metrics on to screen\n",
    "print(paste(\"AUC=\", auc))\n",
    "print(paste(\"Accuracy=\", accuracy))\n",
    "print(paste(\"Classification Error=\", classification_error))\n",
    "\n",
    "# confusion matrix\n",
    "table(hd_data$hd,hd_data$pred_hd, dnn=c(\"True Status\",\"Predicted Values\")) # confusion matrix"
   ]
  }
 ],
 "metadata": {
  "kernelspec": {
   "display_name": "R",
   "language": "R",
   "name": "ir"
  },
  "language_info": {
   "codemirror_mode": "r",
   "file_extension": ".r",
   "mimetype": "text/x-r-source",
   "name": "R",
   "pygments_lexer": "r",
   "version": "3.6.3"
  }
 },
 "nbformat": 4,
 "nbformat_minor": 2
}
